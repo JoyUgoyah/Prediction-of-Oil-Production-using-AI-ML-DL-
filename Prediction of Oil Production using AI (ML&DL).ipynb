{
 "cells": [
  {
   "cell_type": "code",
   "execution_count": 1,
   "metadata": {},
   "outputs": [],
   "source": [
    "import pandas as pd\n",
    "import numpy as np\n",
    "import matplotlib.pyplot as plt\n",
    "%matplotlib inline"
   ]
  },
  {
   "cell_type": "code",
   "execution_count": 2,
   "metadata": {},
   "outputs": [],
   "source": [
    "df = pd.read_csv(\"oil_production.csv\")"
   ]
  },
  {
   "cell_type": "code",
   "execution_count": null,
   "metadata": {},
   "outputs": [],
   "source": [
    "t = df[\"DATEPRD\"]"
   ]
  },
  {
   "cell_type": "code",
   "execution_count": null,
   "metadata": {},
   "outputs": [],
   "source": [
    "df.drop(\"DATEPRD\",axis = 1, inplace = True)"
   ]
  },
  {
   "cell_type": "code",
   "execution_count": null,
   "metadata": {},
   "outputs": [],
   "source": [
    "X = df.iloc[:,0:6]\n",
    "Y = df.iloc[:,6]\n"
   ]
  },
  {
   "cell_type": "code",
   "execution_count": null,
   "metadata": {},
   "outputs": [],
   "source": [
    "from sklearn.linear_model import LinearRegression\n",
    "from sklearn.model_selection import TimeSeriesSplit\n",
    "from sklearn.model_selection import train_test_split"
   ]
  },
  {
   "cell_type": "code",
   "execution_count": null,
   "metadata": {},
   "outputs": [],
   "source": [
    "x_train = X\n",
    "y_train = Y"
   ]
  },
  {
   "cell_type": "code",
   "execution_count": null,
   "metadata": {},
   "outputs": [],
   "source": [
    "from sklearn.preprocessing import MinMaxScaler\n",
    "scaler_x = MinMaxScaler()\n",
    "x_train = scaler_x.fit_transform(x_train)#.as_matrix())\n",
    "#x_val = scaler_x.transform(x_val.as_matrix())\n",
    "#x_test = scaler_x.transform(x_test.as_matrix())\n",
    "\n",
    "scaler_y = MinMaxScaler()\n",
    "y_train = scaler_y.fit_transform(y_train.reshape(-1,1))\n",
    "#y_val = scaler_y.transform(y_val.reshape(-1,1))\n",
    "#y_test = scaler_y.transform(y_test.reshape(-1,1))"
   ]
  },
  {
   "cell_type": "code",
   "execution_count": null,
   "metadata": {},
   "outputs": [],
   "source": [
    "X = np.array(x_train)\n",
    "y = np.array(y_train)"
   ]
  },
  {
   "cell_type": "code",
   "execution_count": null,
   "metadata": {},
   "outputs": [],
   "source": [
    "from sklearn.ensemble import RandomForestRegressor"
   ]
  },
  {
   "cell_type": "code",
   "execution_count": null,
   "metadata": {},
   "outputs": [],
   "source": [
    "import plotly.offline as py\n",
    "py.init_notebook_mode(connected = True)\n",
    "import plotly.graph_objs as go"
   ]
  },
  {
   "cell_type": "code",
   "execution_count": null,
   "metadata": {},
   "outputs": [],
   "source": [
    "model_rf = RandomForestRegressor(random_state=42, criterion = 'mse',\n",
    " max_depth= 8,\n",
    " max_features='sqrt',\n",
    " n_estimators= 200)\n",
    "tscvs = TimeSeriesSplit(n_splits=5)"
   ]
  },
  {
   "cell_type": "code",
   "execution_count": null,
   "metadata": {},
   "outputs": [],
   "source": [
    "def train(X):\n",
    "    x_axis = []\n",
    "    y_axis = []\n",
    "    for i, (train_idx, val_idx) in enumerate(tscvs.split(X)):\n",
    "        print(\" \\nFold\", i)\n",
    "        X_train_cv = X[train_idx]\n",
    "        y_train_cv = y[train_idx]\n",
    "        X_val_cv = X[val_idx]\n",
    "        y_val_cv = y[val_idx]\n",
    "        model_rf.fit(X_train_cv, y_train_cv)\n",
    "        print(model_rf.score(X_val_cv, y_val_cv))\n",
    "        fig, ax = plt.subplots()\n",
    "        plt.plot(model_rf.predict(X_val_cv))\n",
    "        plt.plot(y_val_cv, 'r')\n",
    "        a, b = val_idx,model_rf.predict(X_val_cv)\n",
    "        x_axis.append(a)\n",
    "        y_axis.append(scaler_y.inverse_transform(b.reshape(-1,1)))\n",
    "    return x_axis , y_axis"
   ]
  },
  {
   "cell_type": "code",
   "execution_count": null,
   "metadata": {},
   "outputs": [],
   "source": [
    "a,b = train(X)"
   ]
  },
  {
   "cell_type": "code",
   "execution_count": null,
   "metadata": {},
   "outputs": [],
   "source": [
    "trace0 = go.Scatter(x = a[0], y = b[0].reshape(-1,), name = \"Prediction 1\")\n",
    "trace1 = go.Scatter(x = a[1], y = b[1].reshape(-1,), name = \"Prediction 2\")\n",
    "trace2 = go.Scatter(x = a[2], y = b[2].reshape(-1,), name = \"Prediction 3\")\n",
    "trace3 = go.Scatter(x = a[3], y = b[3].reshape(-1,), name = \"Prediction 4\")\n",
    "trace4 = go.Scatter(x = a[4], y = b[4].reshape(-1,), name = \"Prediction 5\")\n",
    "trace5 = go.Scatter(x = np.arange(len(y_train)), y = scaler_y.inverse_transform(y_train).reshape(-1,), name = 'Actual water rate')\n",
    "\n",
    "layout = go.Layout(\n",
    "    xaxis=dict(\n",
    "        #title='Actual oil rate (m3)',\n",
    "        titlefont=dict(\n",
    "            family='Arial, sans-serif',\n",
    "            size=18,\n",
    "            #color='lightgrey'\n",
    "        ),\n",
    "        showticklabels=True,\n",
    "        tickangle=45,\n",
    "        tickfont=dict(\n",
    "            family='Old Standard TT, serif',\n",
    "            size=14,\n",
    "            color='black'\n",
    "        ),\n",
    "        exponentformat='e',\n",
    "        showexponent='all'\n",
    "    ),\n",
    "    yaxis=dict(\n",
    "        #title='Predicted oil rate (m3)',\n",
    "        titlefont=dict(\n",
    "            family='Arial, sans-serif',\n",
    "            size=18,\n",
    "            #color='lightgrey'\n",
    "        ),\n",
    "        showticklabels=True,\n",
    "        tickangle=45,\n",
    "        tickfont=dict(\n",
    "            family='Old Standard TT, serif',\n",
    "            size=14,\n",
    "            color='black'\n",
    "        ),\n",
    "        exponentformat='e',\n",
    "        showexponent='all'\n",
    "    )\n",
    ")\n",
    "data =  [trace5,trace0,trace1,trace2,trace3,trace4]\n",
    "fig = go.Figure(data=data, layout = layout)\n",
    "py.iplot(fig)"
   ]
  },
  {
   "cell_type": "code",
   "execution_count": null,
   "metadata": {},
   "outputs": [],
   "source": [
    "from keras.models import Sequential\n",
    "from keras.layers import Dense\n",
    "from sklearn.preprocessing import MinMaxScaler, Normalizer, MaxAbsScaler, StandardScaler\n",
    "from sklearn.model_selection import train_test_split, KFold, cross_val_score, GridSearchCV\n",
    "from sklearn.metrics import mean_squared_error, r2_score"
   ]
  },
  {
   "cell_type": "code",
   "execution_count": null,
   "metadata": {},
   "outputs": [],
   "source": [
    "x_train.shape[1]"
   ]
  },
  {
   "cell_type": "code",
   "execution_count": null,
   "metadata": {},
   "outputs": [],
   "source": [
    "model = Sequential()\n",
    "model.add(Dense(30, input_dim=x_train.shape[1], activation='relu'))\n",
    "model.add(Dense(40, activation='relu'))\n",
    "model.add(Dense(20, activation='relu'))\n",
    "model.add(Dense(10, activation='relu'))\n",
    "\n",
    "model.add(Dense(1, activation='linear'))\n",
    "\n",
    "model.compile(loss='mse', optimizer='adam', metrics=['mae'])\n"
   ]
  },
  {
   "cell_type": "code",
   "execution_count": null,
   "metadata": {},
   "outputs": [],
   "source": [
    "tscvs = TimeSeriesSplit(n_splits=5)\n",
    "for i, (train_idx, val_idx) in enumerate(tscvs.split(X)):\n",
    "    print(\" \\nFold\", i)\n",
    "    X_train_cv = X[train_idx]\n",
    "    y_train_cv = y[train_idx]\n",
    "    X_val_cv = X[val_idx]\n",
    "    y_val_cv = y[val_idx]\n",
    "    model.fit(X_train_cv, y_train_cv, batch_size = 64, epochs = 200, verbose = 0)\n",
    "    print(r2_score(y_val_cv, model.predict(X_val_cv)))"
   ]
  },
  {
   "cell_type": "code",
   "execution_count": null,
   "metadata": {},
   "outputs": [],
   "source": [
    "from sklearn.svm import SVR\n",
    "model_svr =SVR()\n",
    "def train(X):\n",
    "    x_axis = []\n",
    "    y_axis = []\n",
    "    for i, (train_idx, val_idx) in enumerate(tscvs.split(X)):\n",
    "        print(\" \\nFold\", i)\n",
    "        X_train_cv = X[train_idx]\n",
    "        y_train_cv = y[train_idx]\n",
    "        X_val_cv = X[val_idx]\n",
    "        y_val_cv = y[val_idx]\n",
    "        model_svr.fit(X_train_cv, y_train_cv)\n",
    "        print(model_svr.score(X_val_cv, y_val_cv))\n",
    "        fig, ax = plt.subplots()\n",
    "        plt.plot(model_svr.predict(X_val_cv))\n",
    "        plt.plot(y_val_cv, 'r')\n",
    "        a, b = val_idx,model_svr.predict(X_val_cv)\n",
    "        x_axis.append(a)\n",
    "        y_axis.append(scaler_y.inverse_transform(b.reshape(-1,1)))\n",
    "    return x_axis , y_axis\n"
   ]
  },
  {
   "cell_type": "code",
   "execution_count": null,
   "metadata": {},
   "outputs": [],
   "source": [
    "a, b = train(X)"
   ]
  },
  {
   "cell_type": "code",
   "execution_count": null,
   "metadata": {},
   "outputs": [],
   "source": [
    "from sklearn.svm import SVR\n",
    "model = SVR(C=10.0, cache_size=200, coef0=0.0, degree=3, epsilon=0.1,\n",
    "    gamma=0.1, kernel='rbf', max_iter=-1, shrinking=True,\n",
    "    tol=0.001)"
   ]
  },
  {
   "cell_type": "code",
   "execution_count": null,
   "metadata": {},
   "outputs": [],
   "source": [
    "def train(model):\n",
    "    x_axis = []\n",
    "    y_axis = []\n",
    "    for i, (train_idx, val_idx) in enumerate(tscvs.split(X)):\n",
    "        print(\" \\nFold\", i)\n",
    "        X_train_cv = X[train_idx]\n",
    "        y_train_cv = y[train_idx]\n",
    "        X_val_cv = X[val_idx]\n",
    "        y_val_cv = y[val_idx]\n",
    "        model.fit(X_train_cv, y_train_cv)\n",
    "        print(model.score(X_val_cv, y_val_cv))\n",
    "        #fig, ax = plt.subplots()\n",
    "        #plt.plot(model.predict(X_val_cv))\n",
    "        #plt.plot(y_val_cv, 'r')\n",
    "        a, b = val_idx,model.predict(X_val_cv)\n",
    "        x_axis.append(a)\n",
    "        y_axis.append(scaler_y.inverse_transform(b.reshape(-1,1)))\n",
    "    return x_axis , y_axis"
   ]
  },
  {
   "cell_type": "code",
   "execution_count": null,
   "metadata": {},
   "outputs": [],
   "source": [
    "a,b = train(model)"
   ]
  },
  {
   "cell_type": "code",
   "execution_count": null,
   "metadata": {},
   "outputs": [],
   "source": [
    "trace0 = go.Scatter(x = a[0], y = b[0].reshape(-1,), name = \"Prediction 1\")\n",
    "trace1 = go.Scatter(x = a[1], y = b[1].reshape(-1,), name = \"Prediction 2\")\n",
    "trace2 = go.Scatter(x = a[2], y = b[2].reshape(-1,), name = \"Prediction 3\")\n",
    "trace3 = go.Scatter(x = a[3], y = b[3].reshape(-1,), name = \"Prediction 4\")\n",
    "trace4 = go.Scatter(x = a[4], y = b[4].reshape(-1,), name = \"Prediction 5\")\n",
    "trace5 = go.Scatter(x = np.arange(len(y_train)), y = scaler_y.inverse_transform(y_train).reshape(-1,),\n",
    "                    name = 'Actual oil rate')\n",
    "\n",
    "layout = go.Layout(\n",
    "    xaxis=dict(\n",
    "        #title='Actual oil rate (m3)',\n",
    "        titlefont=dict(\n",
    "            family='Arial, sans-serif',\n",
    "            size=18,\n",
    "            #color='lightgrey'\n",
    "        ),\n",
    "        showticklabels=True,\n",
    "        tickangle=45,\n",
    "        tickfont=dict(\n",
    "            family='Old Standard TT, serif',\n",
    "            size=14,\n",
    "            color='black'\n",
    "        ),\n",
    "        exponentformat='e',\n",
    "        showexponent='all'\n",
    "    ),\n",
    "    yaxis=dict(\n",
    "        #title='Predicted oil rate (m3)',\n",
    "        titlefont=dict(\n",
    "            family='Arial, sans-serif',\n",
    "            size=18,\n",
    "            #color='lightgrey'\n",
    "        ),\n",
    "        showticklabels=True,\n",
    "        tickangle=45,\n",
    "        tickfont=dict(\n",
    "            family='Old Standard TT, serif',\n",
    "            size=14,\n",
    "            color='black'\n",
    "        ),\n",
    "        exponentformat='e',\n",
    "        showexponent='all'\n",
    "    )\n",
    ")\n",
    "data =  [trace5,trace0,trace1,trace2,trace3,trace4]\n",
    "fig = go.Figure(data=data, layout = layout)\n",
    "py.iplot(fig)"
   ]
  },
  {
   "cell_type": "code",
   "execution_count": null,
   "metadata": {},
   "outputs": [],
   "source": [
    "from sklearn.ensemble import ExtraTreesRegressor\n",
    "model_ett = ExtraTreesRegressor(n_estimators=200, n_jobs=4, min_samples_split=25,\n",
    "                            min_samples_leaf=35, max_features='auto')\n",
    "model_ett.fit(x_train, y_train)"
   ]
  },
  {
   "cell_type": "code",
   "execution_count": null,
   "metadata": {},
   "outputs": [],
   "source": [
    "a,b = train(model_ett)"
   ]
  },
  {
   "cell_type": "code",
   "execution_count": null,
   "metadata": {},
   "outputs": [],
   "source": [
    "trace0 = go.Scatter(x = a[0], y = b[0].reshape(-1,), name = \"Prediction 1\")\n",
    "trace1 = go.Scatter(x = a[1], y = b[1].reshape(-1,), name = \"Prediction 2\")\n",
    "trace2 = go.Scatter(x = a[2], y = b[2].reshape(-1,), name = \"Prediction 3\")\n",
    "trace3 = go.Scatter(x = a[3], y = b[3].reshape(-1,), name = \"Prediction 4\")\n",
    "trace4 = go.Scatter(x = a[4], y = b[4].reshape(-1,), name = \"Prediction 5\")\n",
    "trace5 = go.Scatter(x = np.arange(len(y_train)), y = scaler_y.inverse_transform(y_train).reshape(-1,),\n",
    "                    name = 'Actual oil rate')\n",
    "\n",
    "layout = go.Layout(\n",
    "    xaxis=dict(\n",
    "        #title='Actual oil rate (m3)',\n",
    "        titlefont=dict(\n",
    "            family='Arial, sans-serif',\n",
    "            size=18,\n",
    "            #color='lightgrey'\n",
    "        ),\n",
    "        showticklabels=True,\n",
    "        tickangle=45,\n",
    "        tickfont=dict(\n",
    "            family='Old Standard TT, serif',\n",
    "            size=14,\n",
    "            color='black'\n",
    "        ),\n",
    "        exponentformat='e',\n",
    "        showexponent='all'\n",
    "    ),\n",
    "    yaxis=dict(\n",
    "        #title='Predicted oil rate (m3)',\n",
    "        titlefont=dict(\n",
    "            family='Arial, sans-serif',\n",
    "            size=18,\n",
    "            #color='lightgrey'\n",
    "        ),\n",
    "        showticklabels=True,\n",
    "        tickangle=45,\n",
    "        tickfont=dict(\n",
    "            family='Old Standard TT, serif',\n",
    "            size=14,\n",
    "            color='black'\n",
    "        ),\n",
    "        exponentformat='e',\n",
    "        showexponent='all'\n",
    "    )\n",
    ")\n",
    "data =  [trace5,trace0,trace1,trace2,trace3,trace4]\n",
    "fig = go.Figure(data=data, layout = layout)\n",
    "py.iplot(fig)"
   ]
  },
  {
   "cell_type": "code",
   "execution_count": null,
   "metadata": {},
   "outputs": [],
   "source": [
    "import xgboost as xgb\n",
    "model_xgb = xgb.XGBRegressor(colsample_bytree=0.4603, gamma=0.0468, \n",
    "                             learning_rate=0.05, max_depth=3, \n",
    "                             min_child_weight=1.7817, n_estimators=2200,\n",
    "                             reg_alpha=0.4640, reg_lambda=0.8571,\n",
    "                             subsample=0.5213, silent=1,\n",
    "                             random_state =7, nthread = -1)"
   ]
  },
  {
   "cell_type": "code",
   "execution_count": null,
   "metadata": {},
   "outputs": [],
   "source": [
    "a,b = train(model_xgb)"
   ]
  },
  {
   "cell_type": "code",
   "execution_count": null,
   "metadata": {},
   "outputs": [],
   "source": [
    "trace0 = go.Scatter(x = a[0], y = b[0].reshape(-1,), name = \"Prediction 1\")\n",
    "trace1 = go.Scatter(x = a[1], y = b[1].reshape(-1,), name = \"Prediction 2\")\n",
    "trace2 = go.Scatter(x = a[2], y = b[2].reshape(-1,), name = \"Prediction 3\")\n",
    "trace3 = go.Scatter(x = a[3], y = b[3].reshape(-1,), name = \"Prediction 4\")\n",
    "trace4 = go.Scatter(x = a[4], y = b[4].reshape(-1,), name = \"Prediction 5\")\n",
    "trace5 = go.Scatter(x = np.arange(len(y_train)), y = scaler_y.inverse_transform(y_train).reshape(-1,),\n",
    "                    name = 'Actual oil rate')\n",
    "\n",
    "layout = go.Layout(\n",
    "    xaxis=dict(\n",
    "        #title='Actual oil rate (m3)',\n",
    "        titlefont=dict(\n",
    "            family='Arial, sans-serif',\n",
    "            size=18,\n",
    "            #color='lightgrey'\n",
    "        ),\n",
    "        showticklabels=True,\n",
    "        tickangle=45,\n",
    "        tickfont=dict(\n",
    "            family='Old Standard TT, serif',\n",
    "            size=14,\n",
    "            color='black'\n",
    "        ),\n",
    "        exponentformat='e',\n",
    "        showexponent='all'\n",
    "    ),\n",
    "    yaxis=dict(\n",
    "        #title='Predicted oil rate (m3)',\n",
    "        titlefont=dict(\n",
    "            family='Arial, sans-serif',\n",
    "            size=18,\n",
    "            #color='lightgrey'\n",
    "        ),\n",
    "        showticklabels=True,\n",
    "        tickangle=45,\n",
    "        tickfont=dict(\n",
    "            family='Old Standard TT, serif',\n",
    "            size=14,\n",
    "            color='black'\n",
    "        ),\n",
    "        exponentformat='e',\n",
    "        showexponent='all'\n",
    "    )\n",
    ")\n",
    "data =  [trace5,trace0,trace1,trace2,trace3,trace4]\n",
    "fig = go.Figure(data=data, layout = layout)\n",
    "py.iplot(fig)"
   ]
  },
  {
   "cell_type": "code",
   "execution_count": null,
   "metadata": {},
   "outputs": [],
   "source": [
    "import lightgbm as lgb\n",
    "model_lgb = lgb.LGBMRegressor(objective='regression',num_leaves=64,\n",
    "                              learning_rate=0.005, n_estimators=720,\n",
    "                              max_bin = 55, bagging_fraction = 0.8,\n",
    "                              bagging_freq = 5, feature_fraction = 0.2319,\n",
    "                              feature_fraction_seed=9, bagging_seed=9,\n",
    "                              min_data_in_leaf =6, min_sum_hessian_in_leaf = 11)"
   ]
  },
  {
   "cell_type": "code",
   "execution_count": null,
   "metadata": {},
   "outputs": [],
   "source": [
    "a,b = train(model_lgb)"
   ]
  },
  {
   "cell_type": "code",
   "execution_count": null,
   "metadata": {},
   "outputs": [],
   "source": [
    "trace0 = go.Scatter(x = a[0], y = b[0].reshape(-1,), name = \"Prediction 1\")\n",
    "trace1 = go.Scatter(x = a[1], y = b[1].reshape(-1,), name = \"Prediction 2\")\n",
    "trace2 = go.Scatter(x = a[2], y = b[2].reshape(-1,), name = \"Prediction 3\")\n",
    "trace3 = go.Scatter(x = a[3], y = b[3].reshape(-1,), name = \"Prediction 4\")\n",
    "trace4 = go.Scatter(x = a[4], y = b[4].reshape(-1,), name = \"Prediction 5\")\n",
    "trace5 = go.Scatter(x = np.arange(len(y_train)), y = scaler_y.inverse_transform(y_train).reshape(-1,),\n",
    "                    name = 'Actual oil rate')\n",
    "\n",
    "layout = go.Layout(\n",
    "    xaxis=dict(\n",
    "        #title='Actual oil rate (m3)',\n",
    "        titlefont=dict(\n",
    "            family='Arial, sans-serif',\n",
    "            size=18,\n",
    "            #color='lightgrey'\n",
    "        ),\n",
    "        showticklabels=True,\n",
    "        tickangle=45,\n",
    "        tickfont=dict(\n",
    "            family='Old Standard TT, serif',\n",
    "            size=14,\n",
    "            color='black'\n",
    "        ),\n",
    "        exponentformat='e',\n",
    "        showexponent='all'\n",
    "    ),\n",
    "    yaxis=dict(\n",
    "        #title='Predicted oil rate (m3)',\n",
    "        titlefont=dict(\n",
    "            family='Arial, sans-serif',\n",
    "            size=18,\n",
    "            #color='lightgrey'\n",
    "        ),\n",
    "        showticklabels=True,\n",
    "        tickangle=45,\n",
    "        tickfont=dict(\n",
    "            family='Old Standard TT, serif',\n",
    "            size=14,\n",
    "            color='black'\n",
    "        ),\n",
    "        exponentformat='e',\n",
    "        showexponent='all'\n",
    "    )\n",
    ")\n",
    "data =  [trace5,trace0,trace1,trace2,trace3,trace4]\n",
    "fig = go.Figure(data=data, layout = layout)\n",
    "py.iplot(fig)"
   ]
  }
 ],
 "metadata": {
  "kernelspec": {
   "display_name": "Python 3",
   "language": "python",
   "name": "python3"
  },
  "language_info": {
   "codemirror_mode": {
    "name": "ipython",
    "version": 3
   },
   "file_extension": ".py",
   "mimetype": "text/x-python",
   "name": "python",
   "nbconvert_exporter": "python",
   "pygments_lexer": "ipython3",
   "version": "3.7.4"
  }
 },
 "nbformat": 4,
 "nbformat_minor": 2
}
